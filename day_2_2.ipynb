{
 "cells": [
  {
   "cell_type": "code",
   "execution_count": 1,
   "metadata": {},
   "outputs": [],
   "source": [
    "import pandas as pd"
   ]
  },
  {
   "cell_type": "code",
   "execution_count": 2,
   "metadata": {},
   "outputs": [],
   "source": [
    "url='http://localhost/dataset/renfe.csv'"
   ]
  },
  {
   "cell_type": "code",
   "execution_count": 7,
   "metadata": {},
   "outputs": [],
   "source": [
    "df=pd.read_csv(url)"
   ]
  },
  {
   "cell_type": "code",
   "execution_count": 9,
   "metadata": {},
   "outputs": [
    {
     "name": "stdout",
     "output_type": "stream",
     "text": [
      "         Unnamed: 0          insert_date  origin destination  \\\n",
      "0                 0  2019-04-19 05:31:43  MADRID     SEVILLA   \n",
      "1                 1  2019-04-19 05:31:43  MADRID     SEVILLA   \n",
      "2                 2  2019-04-19 05:31:43  MADRID     SEVILLA   \n",
      "3                 3  2019-04-19 05:31:43  MADRID     SEVILLA   \n",
      "4                 4  2019-04-19 05:31:43  MADRID     SEVILLA   \n",
      "5                 5  2019-04-19 05:31:43  MADRID     SEVILLA   \n",
      "6                 6  2019-04-19 05:31:43  MADRID     SEVILLA   \n",
      "7                 7  2019-04-19 05:31:43  MADRID     SEVILLA   \n",
      "8                 8  2019-04-19 05:31:43  MADRID     SEVILLA   \n",
      "9                 9  2019-04-19 05:31:43  MADRID     SEVILLA   \n",
      "10               10  2019-04-19 05:31:43  MADRID     SEVILLA   \n",
      "11               11  2019-04-19 05:31:43  MADRID     SEVILLA   \n",
      "12               12  2019-04-19 05:31:43  MADRID     SEVILLA   \n",
      "13               13  2019-04-19 05:31:43  MADRID     SEVILLA   \n",
      "14               14  2019-04-19 05:31:43  MADRID     SEVILLA   \n",
      "15               15  2019-04-19 05:31:43  MADRID     SEVILLA   \n",
      "16               16  2019-04-19 05:31:43  MADRID     SEVILLA   \n",
      "17               17  2019-04-19 05:31:43  MADRID     SEVILLA   \n",
      "18               18  2019-04-19 05:31:43  MADRID     SEVILLA   \n",
      "19               19  2019-04-19 05:31:43  MADRID     SEVILLA   \n",
      "20               20  2019-04-19 05:31:43  MADRID     SEVILLA   \n",
      "21               21  2019-04-19 05:31:43  MADRID     SEVILLA   \n",
      "22               22  2019-04-19 05:31:43  MADRID     SEVILLA   \n",
      "23               23  2019-04-19 05:31:43  MADRID     SEVILLA   \n",
      "24               24  2019-04-19 05:31:54  MADRID     SEVILLA   \n",
      "25               25  2019-04-19 05:31:54  MADRID     SEVILLA   \n",
      "26               26  2019-04-19 05:31:54  MADRID     SEVILLA   \n",
      "27               27  2019-04-19 05:31:54  MADRID     SEVILLA   \n",
      "28               28  2019-04-19 05:31:54  MADRID     SEVILLA   \n",
      "29               29  2019-04-19 05:31:54  MADRID     SEVILLA   \n",
      "...             ...                  ...     ...         ...   \n",
      "2579741     2579741  2019-04-19 05:31:36  MADRID     SEVILLA   \n",
      "2579742     2579742  2019-04-19 05:31:36  MADRID     SEVILLA   \n",
      "2579743     2579743  2019-04-19 05:31:36  MADRID     SEVILLA   \n",
      "2579744     2579744  2019-04-19 05:31:36  MADRID     SEVILLA   \n",
      "2579745     2579745  2019-04-19 05:31:36  MADRID     SEVILLA   \n",
      "2579746     2579746  2019-04-19 05:31:38  MADRID     SEVILLA   \n",
      "2579747     2579747  2019-04-19 05:31:38  MADRID     SEVILLA   \n",
      "2579748     2579748  2019-04-19 05:31:38  MADRID     SEVILLA   \n",
      "2579749     2579749  2019-04-19 05:31:38  MADRID     SEVILLA   \n",
      "2579750     2579750  2019-04-19 05:31:38  MADRID     SEVILLA   \n",
      "2579751     2579751  2019-04-19 05:31:38  MADRID     SEVILLA   \n",
      "2579752     2579752  2019-04-19 05:31:38  MADRID     SEVILLA   \n",
      "2579753     2579753  2019-04-19 05:31:38  MADRID     SEVILLA   \n",
      "2579754     2579754  2019-04-19 05:31:38  MADRID     SEVILLA   \n",
      "2579755     2579755  2019-04-19 05:31:38  MADRID     SEVILLA   \n",
      "2579756     2579756  2019-04-19 05:31:38  MADRID     SEVILLA   \n",
      "2579757     2579757  2019-04-19 05:31:38  MADRID     SEVILLA   \n",
      "2579758     2579758  2019-04-19 05:31:38  MADRID     SEVILLA   \n",
      "2579759     2579759  2019-04-19 05:31:38  MADRID     SEVILLA   \n",
      "2579760     2579760  2019-04-19 05:31:38  MADRID     SEVILLA   \n",
      "2579761     2579761  2019-04-19 05:31:38  MADRID     SEVILLA   \n",
      "2579762     2579762  2019-04-19 05:31:38  MADRID     SEVILLA   \n",
      "2579763     2579763  2019-04-19 05:31:38  MADRID     SEVILLA   \n",
      "2579764     2579764  2019-04-19 05:31:38  MADRID     SEVILLA   \n",
      "2579765     2579765  2019-04-19 05:31:38  MADRID     SEVILLA   \n",
      "2579766     2579766  2019-04-19 05:31:38  MADRID     SEVILLA   \n",
      "2579767     2579767  2019-04-19 05:31:38  MADRID     SEVILLA   \n",
      "2579768     2579768  2019-04-19 05:31:38  MADRID     SEVILLA   \n",
      "2579769     2579769  2019-04-19 05:31:38  MADRID     SEVILLA   \n",
      "2579770     2579770  2019-04-19 05:31:38  MADRID     SEVILLA   \n",
      "\n",
      "                  start_date             end_date train_type  price  \\\n",
      "0        2019-05-29 06:20:00  2019-05-29 09:16:00    AV City  38.55   \n",
      "1        2019-05-29 07:00:00  2019-05-29 09:32:00        AVE  53.40   \n",
      "2        2019-05-29 07:30:00  2019-05-29 09:51:00        AVE  47.30   \n",
      "3        2019-05-29 08:00:00  2019-05-29 10:32:00        AVE  69.40   \n",
      "4        2019-05-29 08:30:00  2019-05-29 11:14:00      ALVIA    NaN   \n",
      "5        2019-05-29 09:00:00  2019-05-29 11:38:00        AVE  60.30   \n",
      "6        2019-05-29 09:45:00  2019-05-29 12:27:00  INTERCITY  62.20   \n",
      "7        2019-05-29 10:00:00  2019-05-29 12:32:00        AVE  47.30   \n",
      "8        2019-05-29 11:00:00  2019-05-29 13:32:00        AVE  53.40   \n",
      "9        2019-05-29 11:05:00  2019-05-29 13:41:00      ALVIA    NaN   \n",
      "10       2019-05-29 12:00:00  2019-05-29 14:32:00        AVE  53.40   \n",
      "11       2019-05-29 13:00:00  2019-05-29 15:40:00        AVE  53.40   \n",
      "12       2019-05-29 13:30:00  2019-05-29 16:05:00      ALVIA    NaN   \n",
      "13       2019-05-29 14:00:00  2019-05-29 16:32:00        AVE  60.30   \n",
      "14       2019-05-29 15:00:00  2019-05-29 17:21:00        AVE  60.30   \n",
      "15       2019-05-29 16:00:00  2019-05-29 18:30:00        AVE  60.30   \n",
      "16       2019-05-29 16:30:00  2019-05-29 18:51:00        AVE  76.30   \n",
      "17       2019-05-29 17:00:00  2019-05-29 19:38:00        AVE  76.30   \n",
      "18       2019-05-29 18:00:00  2019-05-29 20:32:00        AVE  76.30   \n",
      "19       2019-05-29 18:35:00  2019-05-29 21:08:00      ALVIA  67.20   \n",
      "20       2019-05-29 19:00:00  2019-05-29 21:38:00        AVE  76.30   \n",
      "21       2019-05-29 19:30:00  2019-05-29 22:05:00        AVE  60.30   \n",
      "22       2019-05-29 20:35:00  2019-05-29 23:15:00        AVE  53.40   \n",
      "23       2019-05-29 21:25:00  2019-05-30 00:10:00    AV City  43.55   \n",
      "24       2019-04-23 06:20:00  2019-04-23 09:16:00    AV City  43.55   \n",
      "25       2019-04-23 07:00:00  2019-04-23 09:32:00        AVE  76.30   \n",
      "26       2019-04-23 07:30:00  2019-04-23 09:51:00        AVE  76.30   \n",
      "27       2019-04-23 08:00:00  2019-04-23 10:32:00        AVE  76.30   \n",
      "28       2019-04-23 08:30:00  2019-04-23 11:14:00      ALVIA    NaN   \n",
      "29       2019-04-23 09:00:00  2019-04-23 11:38:00        AVE  76.30   \n",
      "...                      ...                  ...        ...    ...   \n",
      "2579741  2019-05-31 19:00:00  2019-05-31 21:38:00        AVE  69.40   \n",
      "2579742  2019-05-31 19:30:00  2019-05-31 22:05:00        AVE  60.30   \n",
      "2579743  2019-05-31 20:00:00  2019-05-31 22:21:00        AVE  60.30   \n",
      "2579744  2019-05-31 20:35:00  2019-05-31 23:15:00        AVE  53.40   \n",
      "2579745  2019-05-31 21:25:00  2019-06-01 00:10:00    AV City  49.15   \n",
      "2579746  2019-05-30 06:20:00  2019-05-30 09:16:00    AV City  49.15   \n",
      "2579747  2019-05-30 07:00:00  2019-05-30 09:32:00        AVE  69.40   \n",
      "2579748  2019-05-30 07:30:00  2019-05-30 09:51:00        AVE  69.40   \n",
      "2579749  2019-05-30 08:00:00  2019-05-30 10:32:00        AVE  69.40   \n",
      "2579750  2019-05-30 08:30:00  2019-05-30 11:14:00      ALVIA    NaN   \n",
      "2579751  2019-05-30 09:00:00  2019-05-30 11:38:00        AVE  76.30   \n",
      "2579752  2019-05-30 09:45:00  2019-05-30 12:27:00  INTERCITY  62.20   \n",
      "2579753  2019-05-30 10:00:00  2019-05-30 12:32:00        AVE  76.30   \n",
      "2579754  2019-05-30 11:00:00  2019-05-30 13:32:00        AVE  76.30   \n",
      "2579755  2019-05-30 11:05:00  2019-05-30 13:41:00      ALVIA    NaN   \n",
      "2579756  2019-05-30 12:00:00  2019-05-30 14:32:00        AVE  53.40   \n",
      "2579757  2019-05-30 13:00:00  2019-05-30 15:40:00        AVE  60.30   \n",
      "2579758  2019-05-30 13:30:00  2019-05-30 16:05:00      ALVIA  61.20   \n",
      "2579759  2019-05-30 14:00:00  2019-05-30 16:32:00        AVE  60.30   \n",
      "2579760  2019-05-30 15:00:00  2019-05-30 17:21:00        AVE  76.30   \n",
      "2579761  2019-05-30 16:00:00  2019-05-30 18:30:00        AVE  76.30   \n",
      "2579762  2019-05-30 16:30:00  2019-05-30 18:51:00        AVE  76.30   \n",
      "2579763  2019-05-30 17:00:00  2019-05-30 19:38:00        AVE  76.30   \n",
      "2579764  2019-05-30 18:00:00  2019-05-30 20:32:00        AVE  60.30   \n",
      "2579765  2019-05-30 18:35:00  2019-05-30 21:08:00      ALVIA  67.20   \n",
      "2579766  2019-05-30 19:00:00  2019-05-30 21:38:00        AVE  76.30   \n",
      "2579767  2019-05-30 19:30:00  2019-05-30 22:05:00        AVE  76.30   \n",
      "2579768  2019-05-30 20:00:00  2019-05-30 22:21:00        AVE  72.30   \n",
      "2579769  2019-05-30 20:35:00  2019-05-30 23:15:00        AVE  76.30   \n",
      "2579770  2019-05-30 21:25:00  2019-05-31 00:10:00    AV City  49.15   \n",
      "\n",
      "          train_class      fare  \n",
      "0             Turista     Promo  \n",
      "1             Turista     Promo  \n",
      "2             Turista     Promo  \n",
      "3          Preferente     Promo  \n",
      "4             Turista     Promo  \n",
      "5             Turista     Promo  \n",
      "6             Turista  Flexible  \n",
      "7             Turista     Promo  \n",
      "8             Turista     Promo  \n",
      "9             Turista     Promo  \n",
      "10            Turista     Promo  \n",
      "11            Turista     Promo  \n",
      "12            Turista     Promo  \n",
      "13            Turista     Promo  \n",
      "14            Turista     Promo  \n",
      "15            Turista     Promo  \n",
      "16            Turista  Flexible  \n",
      "17            Turista  Flexible  \n",
      "18            Turista  Flexible  \n",
      "19            Turista  Flexible  \n",
      "20            Turista  Flexible  \n",
      "21            Turista     Promo  \n",
      "22            Turista     Promo  \n",
      "23            Turista     Promo  \n",
      "24            Turista     Promo  \n",
      "25            Turista  Flexible  \n",
      "26            Turista  Flexible  \n",
      "27            Turista  Flexible  \n",
      "28            Turista  Flexible  \n",
      "29            Turista  Flexible  \n",
      "...               ...       ...  \n",
      "2579741    Preferente     Promo  \n",
      "2579742       Turista     Promo  \n",
      "2579743       Turista     Promo  \n",
      "2579744       Turista     Promo  \n",
      "2579745       Turista     Promo  \n",
      "2579746       Turista     Promo  \n",
      "2579747    Preferente     Promo  \n",
      "2579748    Preferente     Promo  \n",
      "2579749    Preferente     Promo  \n",
      "2579750       Turista  Flexible  \n",
      "2579751       Turista  Flexible  \n",
      "2579752       Turista  Flexible  \n",
      "2579753       Turista  Flexible  \n",
      "2579754       Turista  Flexible  \n",
      "2579755       Turista     Promo  \n",
      "2579756       Turista     Promo  \n",
      "2579757       Turista     Promo  \n",
      "2579758    Preferente     Promo  \n",
      "2579759       Turista     Promo  \n",
      "2579760       Turista  Flexible  \n",
      "2579761       Turista  Flexible  \n",
      "2579762       Turista  Flexible  \n",
      "2579763       Turista  Flexible  \n",
      "2579764       Turista     Promo  \n",
      "2579765       Turista  Flexible  \n",
      "2579766       Turista  Flexible  \n",
      "2579767       Turista  Flexible  \n",
      "2579768  Turista Plus     Promo  \n",
      "2579769       Turista  Flexible  \n",
      "2579770       Turista     Promo  \n",
      "\n",
      "[2579771 rows x 10 columns]\n"
     ]
    }
   ],
   "source": [
    "print(df)"
   ]
  },
  {
   "cell_type": "code",
   "execution_count": 14,
   "metadata": {},
   "outputs": [
    {
     "name": "stdout",
     "output_type": "stream",
     "text": [
      "214.2\n"
     ]
    }
   ],
   "source": [
    "maximum=df['price'].max()\n",
    "print(maximum)"
   ]
  },
  {
   "cell_type": "code",
   "execution_count": 15,
   "metadata": {},
   "outputs": [
    {
     "name": "stdout",
     "output_type": "stream",
     "text": [
      "15.45\n"
     ]
    }
   ],
   "source": [
    "minimum=df['price'].min()\n",
    "print(minimum)"
   ]
  },
  {
   "cell_type": "code",
   "execution_count": 16,
   "metadata": {},
   "outputs": [
    {
     "name": "stdout",
     "output_type": "stream",
     "text": [
      "63.38550341776677\n"
     ]
    }
   ],
   "source": [
    "mean=df['price'].mean()\n",
    "print(mean)"
   ]
  },
  {
   "cell_type": "code",
   "execution_count": 18,
   "metadata": {},
   "outputs": [
    {
     "name": "stdout",
     "output_type": "stream",
     "text": [
      "143827411.95000002\n"
     ]
    }
   ],
   "source": [
    "sum=df['price'].sum()\n",
    "print(sum)"
   ]
  },
  {
   "cell_type": "code",
   "execution_count": 19,
   "metadata": {},
   "outputs": [
    {
     "name": "stdout",
     "output_type": "stream",
     "text": [
      "2269090\n"
     ]
    }
   ],
   "source": [
    "count=df['price'].count()\n",
    "print(count)"
   ]
  },
  {
   "cell_type": "code",
   "execution_count": 20,
   "metadata": {},
   "outputs": [
    {
     "name": "stdout",
     "output_type": "stream",
     "text": [
      "   Unnamed: 0          insert_date  origin destination           start_date  \\\n",
      "0           0  2019-04-19 05:31:43  MADRID     SEVILLA  2019-05-29 06:20:00   \n",
      "1           1  2019-04-19 05:31:43  MADRID     SEVILLA  2019-05-29 07:00:00   \n",
      "2           2  2019-04-19 05:31:43  MADRID     SEVILLA  2019-05-29 07:30:00   \n",
      "3           3  2019-04-19 05:31:43  MADRID     SEVILLA  2019-05-29 08:00:00   \n",
      "4           4  2019-04-19 05:31:43  MADRID     SEVILLA  2019-05-29 08:30:00   \n",
      "5           5  2019-04-19 05:31:43  MADRID     SEVILLA  2019-05-29 09:00:00   \n",
      "6           6  2019-04-19 05:31:43  MADRID     SEVILLA  2019-05-29 09:45:00   \n",
      "7           7  2019-04-19 05:31:43  MADRID     SEVILLA  2019-05-29 10:00:00   \n",
      "8           8  2019-04-19 05:31:43  MADRID     SEVILLA  2019-05-29 11:00:00   \n",
      "9           9  2019-04-19 05:31:43  MADRID     SEVILLA  2019-05-29 11:05:00   \n",
      "\n",
      "              end_date train_type  price train_class      fare  \n",
      "0  2019-05-29 09:16:00    AV City  38.55     Turista     Promo  \n",
      "1  2019-05-29 09:32:00        AVE  53.40     Turista     Promo  \n",
      "2  2019-05-29 09:51:00        AVE  47.30     Turista     Promo  \n",
      "3  2019-05-29 10:32:00        AVE  69.40  Preferente     Promo  \n",
      "4  2019-05-29 11:14:00      ALVIA    NaN     Turista     Promo  \n",
      "5  2019-05-29 11:38:00        AVE  60.30     Turista     Promo  \n",
      "6  2019-05-29 12:27:00  INTERCITY  62.20     Turista  Flexible  \n",
      "7  2019-05-29 12:32:00        AVE  47.30     Turista     Promo  \n",
      "8  2019-05-29 13:32:00        AVE  53.40     Turista     Promo  \n",
      "9  2019-05-29 13:41:00      ALVIA    NaN     Turista     Promo  \n"
     ]
    }
   ],
   "source": [
    "print(df.head(10))"
   ]
  },
  {
   "cell_type": "code",
   "execution_count": 23,
   "metadata": {},
   "outputs": [
    {
     "data": {
      "text/html": [
       "<div>\n",
       "<style scoped>\n",
       "    .dataframe tbody tr th:only-of-type {\n",
       "        vertical-align: middle;\n",
       "    }\n",
       "\n",
       "    .dataframe tbody tr th {\n",
       "        vertical-align: top;\n",
       "    }\n",
       "\n",
       "    .dataframe thead th {\n",
       "        text-align: right;\n",
       "    }\n",
       "</style>\n",
       "<table border=\"1\" class=\"dataframe\">\n",
       "  <thead>\n",
       "    <tr style=\"text-align: right;\">\n",
       "      <th></th>\n",
       "      <th>Unnamed: 0</th>\n",
       "      <th>insert_date</th>\n",
       "      <th>origin</th>\n",
       "      <th>destination</th>\n",
       "      <th>start_date</th>\n",
       "      <th>end_date</th>\n",
       "      <th>train_type</th>\n",
       "      <th>price</th>\n",
       "      <th>train_class</th>\n",
       "    </tr>\n",
       "  </thead>\n",
       "  <tbody>\n",
       "    <tr>\n",
       "      <th>0</th>\n",
       "      <td>0</td>\n",
       "      <td>2019-04-19 05:31:43</td>\n",
       "      <td>MADRID</td>\n",
       "      <td>SEVILLA</td>\n",
       "      <td>2019-05-29 06:20:00</td>\n",
       "      <td>2019-05-29 09:16:00</td>\n",
       "      <td>AV City</td>\n",
       "      <td>38.55</td>\n",
       "      <td>Turista</td>\n",
       "    </tr>\n",
       "    <tr>\n",
       "      <th>1</th>\n",
       "      <td>1</td>\n",
       "      <td>2019-04-19 05:31:43</td>\n",
       "      <td>MADRID</td>\n",
       "      <td>SEVILLA</td>\n",
       "      <td>2019-05-29 07:00:00</td>\n",
       "      <td>2019-05-29 09:32:00</td>\n",
       "      <td>AVE</td>\n",
       "      <td>53.40</td>\n",
       "      <td>Turista</td>\n",
       "    </tr>\n",
       "  </tbody>\n",
       "</table>\n",
       "</div>"
      ],
      "text/plain": [
       "   Unnamed: 0          insert_date  origin destination           start_date  \\\n",
       "0           0  2019-04-19 05:31:43  MADRID     SEVILLA  2019-05-29 06:20:00   \n",
       "1           1  2019-04-19 05:31:43  MADRID     SEVILLA  2019-05-29 07:00:00   \n",
       "\n",
       "              end_date train_type  price train_class  \n",
       "0  2019-05-29 09:16:00    AV City  38.55     Turista  \n",
       "1  2019-05-29 09:32:00        AVE  53.40     Turista  "
      ]
     },
     "execution_count": 23,
     "metadata": {},
     "output_type": "execute_result"
    }
   ],
   "source": [
    "df.drop('fare',axis=1).head(2)"
   ]
  },
  {
   "cell_type": "code",
   "execution_count": 26,
   "metadata": {},
   "outputs": [],
   "source": [
    "a=df.drop_duplicates().head()"
   ]
  },
  {
   "cell_type": "code",
   "execution_count": null,
   "metadata": {},
   "outputs": [],
   "source": []
  }
 ],
 "metadata": {
  "kernelspec": {
   "display_name": "Python 3",
   "language": "python",
   "name": "python3"
  },
  "language_info": {
   "codemirror_mode": {
    "name": "ipython",
    "version": 3
   },
   "file_extension": ".py",
   "mimetype": "text/x-python",
   "name": "python",
   "nbconvert_exporter": "python",
   "pygments_lexer": "ipython3",
   "version": "3.7.3"
  }
 },
 "nbformat": 4,
 "nbformat_minor": 2
}
