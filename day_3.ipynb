{
 "cells": [
  {
   "cell_type": "code",
   "execution_count": 1,
   "metadata": {},
   "outputs": [],
   "source": [
    "import pandas as pd"
   ]
  },
  {
   "cell_type": "code",
   "execution_count": 2,
   "metadata": {},
   "outputs": [],
   "source": [
    "url='http://localhost/dataset/metaDataCSV.csv'"
   ]
  },
  {
   "cell_type": "code",
   "execution_count": 3,
   "metadata": {},
   "outputs": [],
   "source": [
    "df=pd.read_csv(url)"
   ]
  },
  {
   "cell_type": "code",
   "execution_count": 8,
   "metadata": {},
   "outputs": [
    {
     "name": "stdout",
     "output_type": "stream",
     "text": [
      "     Label Char Name\n",
      "0        0         া\n",
      "1        1         ি\n",
      "2        2         ী\n",
      "3        3         ু\n",
      "4        4         ূ\n",
      "5        5         ৃ\n",
      "6        6         ে\n",
      "7        7         ৈ\n",
      "8        8         ো\n",
      "9        9         ৌ\n",
      "10      10         অ\n",
      "11      11         আ\n",
      "12      12         ই\n",
      "13      13         ঈ\n",
      "14      14         উ\n",
      "15      15         ঊ\n",
      "16      16         ঋ\n",
      "17      17         এ\n",
      "18      18         ঐ\n",
      "19      19         ও\n",
      "20      20         ঔ\n",
      "21      21         ক\n",
      "22      22         খ\n",
      "23      23         গ\n",
      "24      24         ঘ\n",
      "25      25         ঙ\n",
      "26      26         চ\n",
      "27      27         ছ\n",
      "28      28         জ\n",
      "29      29         ঝ\n",
      "..     ...       ...\n",
      "92      92       চ্চ\n",
      "93      93       ক্র\n",
      "94      94       দ্দ\n",
      "95      95       জ্জ\n",
      "96      96       ক্ক\n",
      "97      97       ন্ত\n",
      "98      98       ক্ট\n",
      "99      99       ঞ্চ\n",
      "100    100       ট্ট\n",
      "101    101       শ্চ\n",
      "102    102       ক্স\n",
      "103    103       জ্ব\n",
      "104    104       ঞ্জ\n",
      "105    105       দ্ধ\n",
      "106    106       ন্ন\n",
      "107    107       ঘ্ন\n",
      "108    108       ক্ল\n",
      "109    109       হ্ন\n",
      "110    110       স্প\n",
      "111    111       ল্ত\n",
      "112    112         ০\n",
      "113    113         ১\n",
      "114    114         ২\n",
      "115    115         ৩\n",
      "116    116         ৪\n",
      "117    117         ৫\n",
      "118    118         ৬\n",
      "119    119         ৭\n",
      "120    120         ৮\n",
      "121    121         ৯\n",
      "\n",
      "[122 rows x 2 columns]\n"
     ]
    }
   ],
   "source": [
    "print(df)"
   ]
  },
  {
   "cell_type": "code",
   "execution_count": null,
   "metadata": {},
   "outputs": [],
   "source": []
  },
  {
   "cell_type": "code",
   "execution_count": null,
   "metadata": {},
   "outputs": [],
   "source": []
  },
  {
   "cell_type": "code",
   "execution_count": null,
   "metadata": {},
   "outputs": [],
   "source": []
  },
  {
   "cell_type": "code",
   "execution_count": null,
   "metadata": {},
   "outputs": [],
   "source": []
  }
 ],
 "metadata": {
  "kernelspec": {
   "display_name": "Python 3",
   "language": "python",
   "name": "python3"
  },
  "language_info": {
   "codemirror_mode": {
    "name": "ipython",
    "version": 3
   },
   "file_extension": ".py",
   "mimetype": "text/x-python",
   "name": "python",
   "nbconvert_exporter": "python",
   "pygments_lexer": "ipython3",
   "version": "3.7.3"
  }
 },
 "nbformat": 4,
 "nbformat_minor": 2
}
